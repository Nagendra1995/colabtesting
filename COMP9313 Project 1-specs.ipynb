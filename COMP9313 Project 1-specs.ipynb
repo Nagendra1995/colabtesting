{
  "nbformat": 4,
  "nbformat_minor": 0,
  "metadata": {
    "kernel_info": {
      "name": "python3"
    },
    "kernelspec": {
      "display_name": "comp9313",
      "language": "python",
      "name": "comp9313"
    },
    "language_info": {
      "codemirror_mode": {
        "name": "ipython",
        "version": 3
      },
      "file_extension": ".py",
      "mimetype": "text/x-python",
      "name": "python",
      "nbconvert_exporter": "python",
      "pygments_lexer": "ipython3",
      "version": "3.6.5"
    },
    "nteract": {
      "version": "0.12.3"
    },
    "colab": {
      "name": "COMP9313 Project 1-specs.ipynb",
      "provenance": []
    }
  },
  "cells": [
    {
      "cell_type": "markdown",
      "metadata": {
        "id": "wHJIgYEw8mZr",
        "colab_type": "text"
      },
      "source": [
        "# Deadline + Late Penalty\n",
        "\n",
        "**Note :** It will take you quite some time to complete this project, therefore, we earnestly recommend that you start working as early as possible.\n",
        "\n",
        "\n",
        "* Submission deadline for the Project is **20:59:59 on 18th Jul, 2020** (Sydney Time).\n",
        "* **LATE PENALTY: 10% on day-1 and 30% on each subsequent day.**"
      ]
    },
    {
      "cell_type": "markdown",
      "metadata": {
        "id": "KdmpY2g28mZw",
        "colab_type": "text"
      },
      "source": [
        "# Instructions\n",
        "1. This note book contains instructions for **COMP9313 Project 1**.\n",
        "\n",
        "* You are required to complete your implementation in the file `submission.py` provided along with this notebook.\n",
        "\n",
        "* You are not allowed to print out unnecessary stuff. We will not consider any output printed out on the screen. All results should be returned in appropriate data structures via corresponding functions.\n",
        "\n",
        "* You are required to submit the following files, via CSE `give`: \n",
        "    - (i)`submission.py`(your code), \n",
        "    - (ii)`report.pdf` (illustrating your implementation details)\n",
        "    - **Note:** detailed submission instructions will be announced later.\n",
        "\n",
        "* We provide you with detailed instructions of the project in this notebook. In case of any problem, you can post your query @Piazza. Please do not post questions regarding the implementation details.\n",
        "\n",
        "* You are allowed to add other functions and/or import modules (you may have to for this project), but you are not allowed to define global variables. **All the functions should be implemented in `submission.py`**. \n",
        "\n",
        "* In this project, you may need to **CREATE YOUR OWN TEST CASES** in order to evaluate the correctness, while at the same time improving the efficiency of your implementation. **DO NOT COMPLETELY RELY ON THE TOY EXAMPLE IN THE SPEC!**\n",
        "  * In order to create your own test cases, you are expected to use real datasets or randomly generated data, and generate hash functions by yourself.\n",
        "\n",
        "* The testing environment is the same as that of `Lab1`. **Note:** Importing other modules (not a part of the Lab1 test environment) may lead to errors, which will result in **ZERO score for the ENTIRE Project**.\n",
        "\n",
        "\n",
        "* After completing the project, the students are **ENCOURAGED** to attempt for **BONUS** part. Detailed instructions for the **BONUS** part are given in the later part of this notebook."
      ]
    },
    {
      "cell_type": "markdown",
      "metadata": {
        "id": "4B1XOz3H8mZ1",
        "colab_type": "text"
      },
      "source": [
        "# Task1: C2LSH (90 points)\n",
        "\n",
        "In this question, you will implement the C2LSH algorithm in Pyspark. Specifically, you are required to write a method `c2lsh()` in the file `submission.py` that takes the following four arguments as input:\n",
        "\n",
        "1. **data_hashes**: is a rdd where each element (i.e., key,value pairs) in this rdd corresponds to (id, data_hash). `id` is an integer and `data_hash` is a python list that contains $m$ integers (i.e., hash values of the data point).\n",
        "* **query_hashes** is a python list that contains $m$ integers (i.e., hash values of the query).\n",
        "* **alpha_m** is an integer which indicates the minimum number of collide hash values between data and query (i.e., $\\alpha m$).\n",
        "* **beta_n** is an integer which indicates the minimum number of candidates to be returned (i.e., $\\beta n$).\n",
        "\n",
        "**Note:**\n",
        "1. You don't need to implement hash functions and generate hashed data, we will provide the data hashes for you.\n",
        "2. Please follow **the description of the algorithm provided in the lecture notes**, which is slightly different to the original C2LSH paper. \n",
        "3. While one of the main purposes of this project is to use spark to solve the problems. Therefore, it is meaningless to circumvent pyspark and do it in other ways (e.g., collect the data and implement the algorithm without transformations etc.). Any such attempt will be considered as a invalid implementation, hence will be assigned **ZERO** score. Specifically, you are not allowed to use the following PySpark functions:\n",
        "  * `aggregate`, `treeAggregate`，`aggregateByKey`\n",
        "  * `collect`, `collectAsMap`\n",
        "  * `countByKey`， `countByValue`\n",
        "  * `foreach`\n",
        "  * `reduce`, `treeReduce`\n",
        "  * `saveAs*` (e.g. `saveAsTextFile`)\n",
        "  * `take*` (e.g. `take`, `takeOrdered`)\n",
        "  * `top`\n",
        "  * `fold`"
      ]
    },
    {
      "cell_type": "markdown",
      "metadata": {
        "id": "3LD9A94_8mZ7",
        "colab_type": "text"
      },
      "source": [
        "## Return Format\n",
        "\n",
        "The `c2lsh()` method returns a `rdd` which contains a sequence of candidate id's.\n",
        "\n",
        "**Notice: The order of the elements in the list does not matter (e.g., we will collect the elements and evaluate them as a set).**"
      ]
    },
    {
      "cell_type": "markdown",
      "metadata": {
        "id": "3y2wjUel8mZ-",
        "colab_type": "text"
      },
      "source": [
        "## Evaluation\n",
        "\n",
        "Your implementation will be tested using 3 different test cases. We will be evaluating based on the following factors:\n",
        "* the correctness of implemented `c2lsh()`. The output will be compared with the result from the correct implementation. Any difference will be considered as incorrect.\n",
        "* the efficiency of your implmentation. We will calculate the running time of `c2lsh()` in each testcase (denoted as $T$).\n",
        "\n",
        "For each testcase (worth 30 points), the following marking criteria will be used:\n",
        "* **Case 1, 0 points**: the returned `rdd` is incorrect, or $T > T_1$\n",
        "* **Case 2, 10 points**: the returned `rdd` is correct, and $T_1 \\geq T > T_2$,\n",
        "* **Case 3, 20 points**: the returned `rdd` is correct, and $T_2 \\geq T > T_3$,\n",
        "* **Case 4, 30 points**: the returned `rdd` is correct, and $T_3 \\geq T$.\n",
        "\n",
        "Where $T_1 > T_2 > T_3$ depend on the testing environment and the test cases."
      ]
    },
    {
      "cell_type": "markdown",
      "metadata": {
        "id": "hZxIGSAM8maC",
        "colab_type": "text"
      },
      "source": [
        "# Task 2: Report (10 points)\n",
        "You are also required to submit your project report, named: `report.pdf`. Specifically, in the report, you are at least expected to answer the following questions:\n",
        "1. Implementation details of your `c2lsh()`. Explain how your major transform function works.\n",
        "2. Show the evaluation result of your implementation using **your own test cases**.\n",
        "3. What did you do to improve the efficiency of your implementation?"
      ]
    },
    {
      "cell_type": "markdown",
      "metadata": {
        "id": "LiDZSBB78maF",
        "colab_type": "text"
      },
      "source": [
        "# Bonus\n",
        "\n",
        "In order to encourage the students to come up with efficient implementations, we allow bonus part of the project with a maximum of 20 points. Rules for the **BONUS** part are as under:\n",
        " * Prerequisites:\n",
        "   1. You must have obtained **90 points** for the implementation part. \n",
        "   2. The **total running time** of your implementation for the three test cases is among the top-50 smallest running times of the class. \n",
        " * All the submissions, satisfying the above-mentioned conditions will be tested against a more challenging dataset. Top-20 most-efficient and correct implementations will be awarded the bonus scores.\n",
        " * We will rank the top-20 implementations in an increasing order w.r.t the running time. We will award 20 points to the most efficient implementation (i.e., the one with smallest running time), 19 points to the 2nd most efficient one, and so on. The implementation ranked 20-th on the list will get 1 bonus point."
      ]
    },
    {
      "cell_type": "markdown",
      "metadata": {
        "id": "IBhMREPe8maJ",
        "colab_type": "text"
      },
      "source": [
        "# How to execute your implementation (EXAMPLE)"
      ]
    },
    {
      "cell_type": "code",
      "metadata": {
        "scrolled": true,
        "id": "3LWDn_ef8maN",
        "colab_type": "code",
        "colab": {},
        "outputId": "bbf50b48-a7f9-4f4c-ff9d-14df769dc7d5"
      },
      "source": [
        "from pyspark import SparkContext, SparkConf\n",
        "from time import time\n",
        "import pickle\n",
        "import test\n",
        "\n",
        "def createSC():\n",
        "    conf = SparkConf()\n",
        "    conf.setMaster(\"local[*]\")\n",
        "    conf.setAppName(\"C2LSH\")\n",
        "    sc = SparkContext(conf = conf)\n",
        "    return sc\n",
        "\n",
        "with open(\"toy/toy_hashed_data\", \"rb\") as file:\n",
        "    data = pickle.load(file)\n",
        "with open(\"toy/toy_hashed_query\", \"rb\") as file:\n",
        "    query_hashes = pickle.load(file)\n",
        "\n",
        "#query_hashes=query8\n",
        "alpha_m  = 10\n",
        "beta_n = 9\n",
        "\n",
        "def collision_count(a, b, offset):\n",
        "    counter = 0\n",
        "    for i in range(len(a)):\n",
        "        if abs(a[i]-b[i]) <= offset:\n",
        "            counter += 1\n",
        "    return counter\n",
        "def c2lsh(data_hashes, query_hashes, alpha_m, beta_n):\n",
        "    offset = 0\n",
        "    cand_num = 0\n",
        "    while cand_num < beta_n :\n",
        "        candidates = data_hashes.flatMap(lambda x :[x[0]] if collision_count(x[1], query_hashes, offset)>=alpha_m else [])\n",
        "        cand_num = candidates.count()\n",
        "        offset += 1\n",
        "    return candidates\n",
        "\n",
        "\n",
        "\n",
        "sc = createSC()\n",
        "data_hashes = sc.parallelize([(index, x) for index, x in enumerate(data)])\n",
        "start_time = time()\n",
        "res = c2lsh(data_hashes, query_hashes, alpha_m, beta_n).collect()\n",
        "end_time = time()\n",
        "sc.stop()\n",
        "\n",
        "print('running time:', end_time - start_time)\n",
        "print('Number of candidate: ', len(res))\n",
        "print('set of candidate: ', set(res))"
      ],
      "execution_count": null,
      "outputs": [
        {
          "output_type": "stream",
          "text": [
            "running time: 100.17657828330994\n",
            "Number of candidate:  10\n",
            "set of candidate:  {0, 70, 40, 10, 80, 50, 20, 90, 60, 30}\n"
          ],
          "name": "stdout"
        }
      ]
    },
    {
      "cell_type": "markdown",
      "metadata": {
        "id": "BNCg8zrM8maq",
        "colab_type": "text"
      },
      "source": [
        "# Project Submission and Feedback\n",
        "\n",
        "\n",
        "For the project submission, you are required to submit the following files:\n",
        "\n",
        "1. Your implementation in the python file `submission.py`.\n",
        "2. The report `report.pdf`.\n",
        "\n",
        "Detailed instruction about using `give` to submit the project files will be announced later via Piazza."
      ]
    },
    {
      "cell_type": "code",
      "metadata": {
        "id": "N8Kie1R98mav",
        "colab_type": "code",
        "colab": {}
      },
      "source": [
        "from pyspark import SparkContext, SparkConf\n",
        "from time import time\n",
        "import pickle\n",
        "import submission\n",
        "\n",
        "def createSC():\n",
        "    conf = SparkConf()\n",
        "    conf.setMaster(\"local[*]\")\n",
        "    conf.setAppName(\"C2LSH\")\n",
        "    sc = SparkContext(conf = conf)\n",
        "    return sc\n",
        "sc = createSC()\n",
        "x=[(1,2),(2,5),(3,4)]\n",
        "y=sc.parallelize(x)\n",
        "#z=y.map(lambda j : (1))\n",
        "#print(z.collect())\n",
        "#print(z.sum())\n",
        "df=y.toDF()\n",
        "print(df)\n"
      ],
      "execution_count": null,
      "outputs": []
    },
    {
      "cell_type": "code",
      "metadata": {
        "id": "g3pr-bvK8rP4",
        "colab_type": "code",
        "colab": {
          "base_uri": "https://localhost:8080/",
          "height": 34
        },
        "outputId": "f0ee2c20-6757-42e8-c38f-b34c219137e7"
      },
      "source": [
        "print(\"helloooo\")"
      ],
      "execution_count": 1,
      "outputs": [
        {
          "output_type": "stream",
          "text": [
            "helloooo\n"
          ],
          "name": "stdout"
        }
      ]
    },
    {
      "cell_type": "code",
      "metadata": {
        "id": "wHYtUsMj8mbA",
        "colab_type": "code",
        "colab": {}
      },
      "source": [
        "import random\n",
        "\n",
        "def generate( dimension, count, seed, start=-1000, end=1000):\n",
        "    random.seed(seed)\n",
        "\n",
        "    data = [\n",
        "        [\n",
        "            random.randint(start, end)\n",
        "            for _ in range(dimension)\n",
        "        ]\n",
        "        for i in range(count)\n",
        "    ]\n",
        "\n",
        "    query = [ random.randint(start, end) for _ in range(dimension) ]\n",
        "    \n",
        "    return data, query\n",
        "\n",
        "def generate2( dimension, count, seed, start=0, end=100):\n",
        "    data = [\n",
        "        [n] * dimension\n",
        "        for n in range(start, end)\n",
        "        for i in range(count)\n",
        "    ]\n",
        "\n",
        "    query = [ seed ] * dimension\n",
        "    \n",
        "    return data, query\n",
        "\n",
        "def generate3(dimension, count, seed, start=0, end=100):\n",
        "    data = [\n",
        "        [k + j for j in range(dimension)]\n",
        "        for k in range(start, end)\n",
        "        for i in range(count)\n",
        "    ]\n",
        "\n",
        "    query = [ seed ] * dimension\n",
        "    \n",
        "    return data, query"
      ],
      "execution_count": null,
      "outputs": []
    },
    {
      "cell_type": "code",
      "metadata": {
        "id": "pbaSB28C8mbW",
        "colab_type": "code",
        "colab": {}
      },
      "source": [
        "data2, query2 = generate(10, 20000, 0, 0, 1000)\n"
      ],
      "execution_count": null,
      "outputs": []
    },
    {
      "cell_type": "code",
      "metadata": {
        "id": "zXPj8fxx8mbk",
        "colab_type": "code",
        "colab": {}
      },
      "source": [
        "print(data2)"
      ],
      "execution_count": null,
      "outputs": []
    },
    {
      "cell_type": "code",
      "metadata": {
        "id": "rfFNGO_18mb0",
        "colab_type": "code",
        "colab": {}
      },
      "source": [
        "print(query2)"
      ],
      "execution_count": null,
      "outputs": []
    },
    {
      "cell_type": "code",
      "metadata": {
        "id": "7Nwne_Yi8mcI",
        "colab_type": "code",
        "colab": {}
      },
      "source": [
        "def count(j,hashes,offset):\n",
        "    d=[a_i - b_i for a_i, b_i in zip(j, hashes)]\n",
        "    if offset in d\n",
        "c=[]\n",
        "for i in data2:\n",
        "    c.append(count(i,query2,0))\n",
        "print(c)\n",
        "    "
      ],
      "execution_count": null,
      "outputs": []
    },
    {
      "cell_type": "code",
      "metadata": {
        "id": "azBoka-h8mcV",
        "colab_type": "code",
        "colab": {}
      },
      "source": [
        "[a_i - b_i for a_i, b_i in zip(a, b)]"
      ],
      "execution_count": null,
      "outputs": []
    },
    {
      "cell_type": "code",
      "metadata": {
        "id": "5GC-do468mch",
        "colab_type": "code",
        "colab": {}
      },
      "source": [
        "def count1(j,hashes,offset):\n",
        "    result = map(lambda x, y: abs(x - y)<=offset, j, hashes)\n",
        "    return sum(result)"
      ],
      "execution_count": null,
      "outputs": []
    },
    {
      "cell_type": "code",
      "metadata": {
        "id": "yUsli9bv8mcv",
        "colab_type": "code",
        "colab": {}
      },
      "source": [
        "a=[864, 394, 776, 911, 430, 41, 265, 988, 523, 497]\n",
        "b=[293, 94, 674, 113, 852, 220, 503, 12, 458, 613]\n",
        "one_time = time()\n",
        "c=count1(a,b,0)\n",
        "two_time = time()\n",
        "print(c)\n",
        "print(two_time-one_time)\n",
        "one3_time = time()\n",
        "d=count2(a,b,0)\n",
        "one4_time = time()\n",
        "print(one4_time-one3_time)\n",
        "print(d)\n",
        "one5_time = time()\n",
        "e=count3(a,b,0)\n",
        "one6_time = time()\n",
        "print(one6_time-one5_time)"
      ],
      "execution_count": null,
      "outputs": []
    },
    {
      "cell_type": "code",
      "metadata": {
        "id": "9IvdeeUJ8mc7",
        "colab_type": "code",
        "colab": {}
      },
      "source": [
        "from itertools import *\n",
        "def count2(j,hashes,offset):\n",
        "    result = imap(lambda x, y: abs(x - y)<=offset, j, hashes)\n",
        "    return sum(result)"
      ],
      "execution_count": null,
      "outputs": []
    },
    {
      "cell_type": "code",
      "metadata": {
        "id": "cHTLSMT08mdG",
        "colab_type": "code",
        "colab": {}
      },
      "source": [
        "def count3(j,hashes,offset):\n",
        "    counter=0\n",
        "    for i in range(len(j)):\n",
        "        if abs(j[i]-hashes[i]) <= offset:\n",
        "            counter +=1\n",
        "    return counter"
      ],
      "execution_count": null,
      "outputs": []
    },
    {
      "cell_type": "code",
      "metadata": {
        "id": "URjnPuGG8mdS",
        "colab_type": "code",
        "colab": {}
      },
      "source": [
        "#alpha_m, beta_n = 10, 500\n",
        "data6, query6 = generate( 13, 2_000, 100, -230_000, 50_000)"
      ],
      "execution_count": null,
      "outputs": []
    },
    {
      "cell_type": "code",
      "metadata": {
        "id": "1G6QS3YJ8mde",
        "colab_type": "code",
        "colab": {}
      },
      "source": [
        "data7, query7 = generate( 15, 70_000, 140, -500_000, 500_000)"
      ],
      "execution_count": null,
      "outputs": []
    },
    {
      "cell_type": "code",
      "metadata": {
        "id": "10Fa9U0C8mdz",
        "colab_type": "code",
        "colab": {}
      },
      "source": [
        "data8, query8 = generate2( 13, 9, 100, 0, 120)"
      ],
      "execution_count": null,
      "outputs": []
    },
    {
      "cell_type": "code",
      "metadata": {
        "id": "o4vmOXrV8md-",
        "colab_type": "code",
        "colab": {},
        "outputId": "482edfed-7462-41f6-d33c-6d2b1cad2cf5"
      },
      "source": [
        "from pyspark import SparkContext, SparkConf\n",
        "from time import time\n",
        "import pickle\n",
        "import submission\n",
        "\n",
        " \n",
        "\n",
        "def createSC():\n",
        "    conf = SparkConf()\n",
        "    conf.setMaster(\"local[*]\")\n",
        "    conf.setAppName(\"C2LSH\")\n",
        "    sc = SparkContext(conf = conf)\n",
        "    return sc\n",
        "\n",
        "sc = createSC()\n",
        "raw_data = [(\"Joseph\", \"Maths\", 83), (\"Joseph\", \"Physics\", 74),\n",
        "(\"Joseph\", \"Chemistry\", 91), (\"Joseph\", \"Biology\", 82),\n",
        "(\"Jimmy\", \"Maths\", 69), (\"Jimmy\", \"Physics\", 62),\n",
        "(\"Jimmy\", \"Chemistry\", 97), (\"Jimmy\", \"Biology\", 80),\n",
        "(\"Tina\", \"Maths\", 78), (\"Tina\", \"Physics\", 73),\n",
        "(\"Tina\", \"Chemistry\", 68), (\"Tina\", \"Biology\", 87),\n",
        "(\"Thomas\", \"Maths\", 87), (\"Thomas\", \"Physics\", 93),\n",
        "(\"Thomas\", \"Chemistry\", 91), (\"Thomas\", \"Biology\", 74)]\n",
        "\n",
        "student_rdd = sc.parallelize(raw_data)\n",
        "rdd_1 = sc.parallelize(raw_data)\n",
        "#start_time = time()\n",
        "rdd_2 = rdd_1.map(lambda x:(x[0], x[2]))\n",
        "rdd_3 = rdd_2.reduceByKey(lambda x, y:max(x, y))\n",
        "rdd_4 = rdd_2.reduceByKey(lambda x, y:min(x, y))\n",
        "rdd_5 = rdd_3.join(rdd_4)\n",
        "rdd_6 = rdd_5.map(lambda x: (x[0], x[1][0]+x[1][1]))\n",
        "#end_time = time()\n",
        "#comb_rdd1 = student_rdd.map(lambda t: (t[0], (t[1], t[2]))) \\\n",
        "                    #.combineByKey(createCombiner, mergeValue, mergeCombiner).map(lambda t: (t[0],sum(t[1])))\n",
        "#rdd_2 = rdd_1.map(lambda t: (t[0], (t[1], t[2]))).combineByKey(lambda t:(t[1],t[1]), lambda t,y:(max(t[0],y[1]),min(t[1],y[1])),lambda t1,t2:(max(t1[0],t2[0]),min(t1[1],t2[1]))).map(lambda t:(t[0],sum(t[1])))\n",
        "print(rdd_6.collect())\n",
        "\n",
        "\n",
        "\n"
      ],
      "execution_count": null,
      "outputs": [
        {
          "output_type": "error",
          "ename": "Py4JJavaError",
          "evalue": "An error occurred while calling z:org.apache.spark.api.python.PythonRDD.collectAndServe.\n: org.apache.spark.SparkException: Job aborted due to stage failure: Task 2 in stage 2.0 failed 1 times, most recent failure: Lost task 2.0 in stage 2.0 (TID 10, localhost, executor driver): org.apache.spark.api.python.PythonException: Traceback (most recent call last):\n  File \"C:\\Users\\HP\\Anaconda3\\envs\\comp9313\\Lib\\site-packages\\pyspark\\python\\lib\\pyspark.zip\\pyspark\\worker.py\", line 362, in main\n  File \"C:\\Users\\HP\\Anaconda3\\envs\\comp9313\\Lib\\site-packages\\pyspark\\python\\lib\\pyspark.zip\\pyspark\\serializers.py\", line 722, in read_int\n    length = stream.read(4)\n  File \"C:\\Users\\HP\\Anaconda3\\envs\\comp9313\\lib\\socket.py\", line 586, in readinto\n    return self._sock.recv_into(b)\nsocket.timeout: timed out\n\r\n\tat org.apache.spark.api.python.BasePythonRunner$ReaderIterator.handlePythonException(PythonRunner.scala:456)\r\n\tat org.apache.spark.api.python.PythonRunner$$anon$1.read(PythonRunner.scala:592)\r\n\tat org.apache.spark.api.python.PythonRunner$$anon$1.read(PythonRunner.scala:575)\r\n\tat org.apache.spark.api.python.BasePythonRunner$ReaderIterator.hasNext(PythonRunner.scala:410)\r\n\tat org.apache.spark.InterruptibleIterator.hasNext(InterruptibleIterator.scala:37)\r\n\tat scala.collection.Iterator$class.foreach(Iterator.scala:891)\r\n\tat org.apache.spark.InterruptibleIterator.foreach(InterruptibleIterator.scala:28)\r\n\tat scala.collection.generic.Growable$class.$plus$plus$eq(Growable.scala:59)\r\n\tat scala.collection.mutable.ArrayBuffer.$plus$plus$eq(ArrayBuffer.scala:104)\r\n\tat scala.collection.mutable.ArrayBuffer.$plus$plus$eq(ArrayBuffer.scala:48)\r\n\tat scala.collection.TraversableOnce$class.to(TraversableOnce.scala:310)\r\n\tat org.apache.spark.InterruptibleIterator.to(InterruptibleIterator.scala:28)\r\n\tat scala.collection.TraversableOnce$class.toBuffer(TraversableOnce.scala:302)\r\n\tat org.apache.spark.InterruptibleIterator.toBuffer(InterruptibleIterator.scala:28)\r\n\tat scala.collection.TraversableOnce$class.toArray(TraversableOnce.scala:289)\r\n\tat org.apache.spark.InterruptibleIterator.toArray(InterruptibleIterator.scala:28)\r\n\tat org.apache.spark.rdd.RDD$$anonfun$collect$1$$anonfun$15.apply(RDD.scala:990)\r\n\tat org.apache.spark.rdd.RDD$$anonfun$collect$1$$anonfun$15.apply(RDD.scala:990)\r\n\tat org.apache.spark.SparkContext$$anonfun$runJob$5.apply(SparkContext.scala:2101)\r\n\tat org.apache.spark.SparkContext$$anonfun$runJob$5.apply(SparkContext.scala:2101)\r\n\tat org.apache.spark.scheduler.ResultTask.runTask(ResultTask.scala:90)\r\n\tat org.apache.spark.scheduler.Task.run(Task.scala:123)\r\n\tat org.apache.spark.executor.Executor$TaskRunner$$anonfun$10.apply(Executor.scala:408)\r\n\tat org.apache.spark.util.Utils$.tryWithSafeFinally(Utils.scala:1360)\r\n\tat org.apache.spark.executor.Executor$TaskRunner.run(Executor.scala:414)\r\n\tat java.util.concurrent.ThreadPoolExecutor.runWorker(Unknown Source)\r\n\tat java.util.concurrent.ThreadPoolExecutor$Worker.run(Unknown Source)\r\n\tat java.lang.Thread.run(Unknown Source)\r\n\nDriver stacktrace:\r\n\tat org.apache.spark.scheduler.DAGScheduler.org$apache$spark$scheduler$DAGScheduler$$failJobAndIndependentStages(DAGScheduler.scala:1891)\r\n\tat org.apache.spark.scheduler.DAGScheduler$$anonfun$abortStage$1.apply(DAGScheduler.scala:1879)\r\n\tat org.apache.spark.scheduler.DAGScheduler$$anonfun$abortStage$1.apply(DAGScheduler.scala:1878)\r\n\tat scala.collection.mutable.ResizableArray$class.foreach(ResizableArray.scala:59)\r\n\tat scala.collection.mutable.ArrayBuffer.foreach(ArrayBuffer.scala:48)\r\n\tat org.apache.spark.scheduler.DAGScheduler.abortStage(DAGScheduler.scala:1878)\r\n\tat org.apache.spark.scheduler.DAGScheduler$$anonfun$handleTaskSetFailed$1.apply(DAGScheduler.scala:927)\r\n\tat org.apache.spark.scheduler.DAGScheduler$$anonfun$handleTaskSetFailed$1.apply(DAGScheduler.scala:927)\r\n\tat scala.Option.foreach(Option.scala:257)\r\n\tat org.apache.spark.scheduler.DAGScheduler.handleTaskSetFailed(DAGScheduler.scala:927)\r\n\tat org.apache.spark.scheduler.DAGSchedulerEventProcessLoop.doOnReceive(DAGScheduler.scala:2112)\r\n\tat org.apache.spark.scheduler.DAGSchedulerEventProcessLoop.onReceive(DAGScheduler.scala:2061)\r\n\tat org.apache.spark.scheduler.DAGSchedulerEventProcessLoop.onReceive(DAGScheduler.scala:2050)\r\n\tat org.apache.spark.util.EventLoop$$anon$1.run(EventLoop.scala:49)\r\n\tat org.apache.spark.scheduler.DAGScheduler.runJob(DAGScheduler.scala:738)\r\n\tat org.apache.spark.SparkContext.runJob(SparkContext.scala:2061)\r\n\tat org.apache.spark.SparkContext.runJob(SparkContext.scala:2082)\r\n\tat org.apache.spark.SparkContext.runJob(SparkContext.scala:2101)\r\n\tat org.apache.spark.SparkContext.runJob(SparkContext.scala:2126)\r\n\tat org.apache.spark.rdd.RDD$$anonfun$collect$1.apply(RDD.scala:990)\r\n\tat org.apache.spark.rdd.RDDOperationScope$.withScope(RDDOperationScope.scala:151)\r\n\tat org.apache.spark.rdd.RDDOperationScope$.withScope(RDDOperationScope.scala:112)\r\n\tat org.apache.spark.rdd.RDD.withScope(RDD.scala:385)\r\n\tat org.apache.spark.rdd.RDD.collect(RDD.scala:989)\r\n\tat org.apache.spark.api.python.PythonRDD$.collectAndServe(PythonRDD.scala:166)\r\n\tat org.apache.spark.api.python.PythonRDD.collectAndServe(PythonRDD.scala)\r\n\tat sun.reflect.NativeMethodAccessorImpl.invoke0(Native Method)\r\n\tat sun.reflect.NativeMethodAccessorImpl.invoke(Unknown Source)\r\n\tat sun.reflect.DelegatingMethodAccessorImpl.invoke(Unknown Source)\r\n\tat java.lang.reflect.Method.invoke(Unknown Source)\r\n\tat py4j.reflection.MethodInvoker.invoke(MethodInvoker.java:244)\r\n\tat py4j.reflection.ReflectionEngine.invoke(ReflectionEngine.java:357)\r\n\tat py4j.Gateway.invoke(Gateway.java:282)\r\n\tat py4j.commands.AbstractCommand.invokeMethod(AbstractCommand.java:132)\r\n\tat py4j.commands.CallCommand.execute(CallCommand.java:79)\r\n\tat py4j.GatewayConnection.run(GatewayConnection.java:238)\r\n\tat java.lang.Thread.run(Unknown Source)\r\nCaused by: org.apache.spark.api.python.PythonException: Traceback (most recent call last):\n  File \"C:\\Users\\HP\\Anaconda3\\envs\\comp9313\\Lib\\site-packages\\pyspark\\python\\lib\\pyspark.zip\\pyspark\\worker.py\", line 362, in main\n  File \"C:\\Users\\HP\\Anaconda3\\envs\\comp9313\\Lib\\site-packages\\pyspark\\python\\lib\\pyspark.zip\\pyspark\\serializers.py\", line 722, in read_int\n    length = stream.read(4)\n  File \"C:\\Users\\HP\\Anaconda3\\envs\\comp9313\\lib\\socket.py\", line 586, in readinto\n    return self._sock.recv_into(b)\nsocket.timeout: timed out\n\r\n\tat org.apache.spark.api.python.BasePythonRunner$ReaderIterator.handlePythonException(PythonRunner.scala:456)\r\n\tat org.apache.spark.api.python.PythonRunner$$anon$1.read(PythonRunner.scala:592)\r\n\tat org.apache.spark.api.python.PythonRunner$$anon$1.read(PythonRunner.scala:575)\r\n\tat org.apache.spark.api.python.BasePythonRunner$ReaderIterator.hasNext(PythonRunner.scala:410)\r\n\tat org.apache.spark.InterruptibleIterator.hasNext(InterruptibleIterator.scala:37)\r\n\tat scala.collection.Iterator$class.foreach(Iterator.scala:891)\r\n\tat org.apache.spark.InterruptibleIterator.foreach(InterruptibleIterator.scala:28)\r\n\tat scala.collection.generic.Growable$class.$plus$plus$eq(Growable.scala:59)\r\n\tat scala.collection.mutable.ArrayBuffer.$plus$plus$eq(ArrayBuffer.scala:104)\r\n\tat scala.collection.mutable.ArrayBuffer.$plus$plus$eq(ArrayBuffer.scala:48)\r\n\tat scala.collection.TraversableOnce$class.to(TraversableOnce.scala:310)\r\n\tat org.apache.spark.InterruptibleIterator.to(InterruptibleIterator.scala:28)\r\n\tat scala.collection.TraversableOnce$class.toBuffer(TraversableOnce.scala:302)\r\n\tat org.apache.spark.InterruptibleIterator.toBuffer(InterruptibleIterator.scala:28)\r\n\tat scala.collection.TraversableOnce$class.toArray(TraversableOnce.scala:289)\r\n\tat org.apache.spark.InterruptibleIterator.toArray(InterruptibleIterator.scala:28)\r\n\tat org.apache.spark.rdd.RDD$$anonfun$collect$1$$anonfun$15.apply(RDD.scala:990)\r\n\tat org.apache.spark.rdd.RDD$$anonfun$collect$1$$anonfun$15.apply(RDD.scala:990)\r\n\tat org.apache.spark.SparkContext$$anonfun$runJob$5.apply(SparkContext.scala:2101)\r\n\tat org.apache.spark.SparkContext$$anonfun$runJob$5.apply(SparkContext.scala:2101)\r\n\tat org.apache.spark.scheduler.ResultTask.runTask(ResultTask.scala:90)\r\n\tat org.apache.spark.scheduler.Task.run(Task.scala:123)\r\n\tat org.apache.spark.executor.Executor$TaskRunner$$anonfun$10.apply(Executor.scala:408)\r\n\tat org.apache.spark.util.Utils$.tryWithSafeFinally(Utils.scala:1360)\r\n\tat org.apache.spark.executor.Executor$TaskRunner.run(Executor.scala:414)\r\n\tat java.util.concurrent.ThreadPoolExecutor.runWorker(Unknown Source)\r\n\tat java.util.concurrent.ThreadPoolExecutor$Worker.run(Unknown Source)\r\n\t... 1 more\r\n",
          "traceback": [
            "\u001b[1;31m---------------------------------------------------------------------------\u001b[0m",
            "\u001b[1;31mPy4JJavaError\u001b[0m                             Traceback (most recent call last)",
            "\u001b[1;32m<ipython-input-1-1555adf58bac>\u001b[0m in \u001b[0;36m<module>\u001b[1;34m\u001b[0m\n\u001b[0;32m     35\u001b[0m                     \u001b[1;31m#.combineByKey(createCombiner, mergeValue, mergeCombiner).map(lambda t: (t[0],sum(t[1])))\u001b[0m\u001b[1;33m\u001b[0m\u001b[1;33m\u001b[0m\u001b[0m\n\u001b[0;32m     36\u001b[0m \u001b[1;31m#rdd_2 = rdd_1.map(lambda t: (t[0], (t[1], t[2]))).combineByKey(lambda t:(t[1],t[1]), lambda t,y:(max(t[0],y[1]),min(t[1],y[1])),lambda t1,t2:(max(t1[0],t2[0]),min(t1[1],t2[1]))).map(lambda t:(t[0],sum(t[1])))\u001b[0m\u001b[1;33m\u001b[0m\u001b[1;33m\u001b[0m\u001b[0m\n\u001b[1;32m---> 37\u001b[1;33m \u001b[0mprint\u001b[0m\u001b[1;33m(\u001b[0m\u001b[0mrdd_6\u001b[0m\u001b[1;33m.\u001b[0m\u001b[0mcollect\u001b[0m\u001b[1;33m(\u001b[0m\u001b[1;33m)\u001b[0m\u001b[1;33m)\u001b[0m\u001b[1;33m\u001b[0m\u001b[0m\n\u001b[0m\u001b[0;32m     38\u001b[0m \u001b[1;33m\u001b[0m\u001b[0m\n\u001b[0;32m     39\u001b[0m \u001b[1;33m\u001b[0m\u001b[0m\n",
            "\u001b[1;32m~\\Anaconda3\\envs\\comp9313\\lib\\site-packages\\pyspark\\rdd.py\u001b[0m in \u001b[0;36mcollect\u001b[1;34m(self)\u001b[0m\n\u001b[0;32m    814\u001b[0m         \"\"\"\n\u001b[0;32m    815\u001b[0m         \u001b[1;32mwith\u001b[0m \u001b[0mSCCallSiteSync\u001b[0m\u001b[1;33m(\u001b[0m\u001b[0mself\u001b[0m\u001b[1;33m.\u001b[0m\u001b[0mcontext\u001b[0m\u001b[1;33m)\u001b[0m \u001b[1;32mas\u001b[0m \u001b[0mcss\u001b[0m\u001b[1;33m:\u001b[0m\u001b[1;33m\u001b[0m\u001b[0m\n\u001b[1;32m--> 816\u001b[1;33m             \u001b[0msock_info\u001b[0m \u001b[1;33m=\u001b[0m \u001b[0mself\u001b[0m\u001b[1;33m.\u001b[0m\u001b[0mctx\u001b[0m\u001b[1;33m.\u001b[0m\u001b[0m_jvm\u001b[0m\u001b[1;33m.\u001b[0m\u001b[0mPythonRDD\u001b[0m\u001b[1;33m.\u001b[0m\u001b[0mcollectAndServe\u001b[0m\u001b[1;33m(\u001b[0m\u001b[0mself\u001b[0m\u001b[1;33m.\u001b[0m\u001b[0m_jrdd\u001b[0m\u001b[1;33m.\u001b[0m\u001b[0mrdd\u001b[0m\u001b[1;33m(\u001b[0m\u001b[1;33m)\u001b[0m\u001b[1;33m)\u001b[0m\u001b[1;33m\u001b[0m\u001b[0m\n\u001b[0m\u001b[0;32m    817\u001b[0m         \u001b[1;32mreturn\u001b[0m \u001b[0mlist\u001b[0m\u001b[1;33m(\u001b[0m\u001b[0m_load_from_socket\u001b[0m\u001b[1;33m(\u001b[0m\u001b[0msock_info\u001b[0m\u001b[1;33m,\u001b[0m \u001b[0mself\u001b[0m\u001b[1;33m.\u001b[0m\u001b[0m_jrdd_deserializer\u001b[0m\u001b[1;33m)\u001b[0m\u001b[1;33m)\u001b[0m\u001b[1;33m\u001b[0m\u001b[0m\n\u001b[0;32m    818\u001b[0m \u001b[1;33m\u001b[0m\u001b[0m\n",
            "\u001b[1;32m~\\Anaconda3\\envs\\comp9313\\lib\\site-packages\\py4j\\java_gateway.py\u001b[0m in \u001b[0;36m__call__\u001b[1;34m(self, *args)\u001b[0m\n\u001b[0;32m   1255\u001b[0m         \u001b[0manswer\u001b[0m \u001b[1;33m=\u001b[0m \u001b[0mself\u001b[0m\u001b[1;33m.\u001b[0m\u001b[0mgateway_client\u001b[0m\u001b[1;33m.\u001b[0m\u001b[0msend_command\u001b[0m\u001b[1;33m(\u001b[0m\u001b[0mcommand\u001b[0m\u001b[1;33m)\u001b[0m\u001b[1;33m\u001b[0m\u001b[0m\n\u001b[0;32m   1256\u001b[0m         return_value = get_return_value(\n\u001b[1;32m-> 1257\u001b[1;33m             answer, self.gateway_client, self.target_id, self.name)\n\u001b[0m\u001b[0;32m   1258\u001b[0m \u001b[1;33m\u001b[0m\u001b[0m\n\u001b[0;32m   1259\u001b[0m         \u001b[1;32mfor\u001b[0m \u001b[0mtemp_arg\u001b[0m \u001b[1;32min\u001b[0m \u001b[0mtemp_args\u001b[0m\u001b[1;33m:\u001b[0m\u001b[1;33m\u001b[0m\u001b[0m\n",
            "\u001b[1;32m~\\Anaconda3\\envs\\comp9313\\lib\\site-packages\\py4j\\protocol.py\u001b[0m in \u001b[0;36mget_return_value\u001b[1;34m(answer, gateway_client, target_id, name)\u001b[0m\n\u001b[0;32m    326\u001b[0m                 raise Py4JJavaError(\n\u001b[0;32m    327\u001b[0m                     \u001b[1;34m\"An error occurred while calling {0}{1}{2}.\\n\"\u001b[0m\u001b[1;33m.\u001b[0m\u001b[1;33m\u001b[0m\u001b[0m\n\u001b[1;32m--> 328\u001b[1;33m                     format(target_id, \".\", name), value)\n\u001b[0m\u001b[0;32m    329\u001b[0m             \u001b[1;32melse\u001b[0m\u001b[1;33m:\u001b[0m\u001b[1;33m\u001b[0m\u001b[0m\n\u001b[0;32m    330\u001b[0m                 raise Py4JError(\n",
            "\u001b[1;31mPy4JJavaError\u001b[0m: An error occurred while calling z:org.apache.spark.api.python.PythonRDD.collectAndServe.\n: org.apache.spark.SparkException: Job aborted due to stage failure: Task 2 in stage 2.0 failed 1 times, most recent failure: Lost task 2.0 in stage 2.0 (TID 10, localhost, executor driver): org.apache.spark.api.python.PythonException: Traceback (most recent call last):\n  File \"C:\\Users\\HP\\Anaconda3\\envs\\comp9313\\Lib\\site-packages\\pyspark\\python\\lib\\pyspark.zip\\pyspark\\worker.py\", line 362, in main\n  File \"C:\\Users\\HP\\Anaconda3\\envs\\comp9313\\Lib\\site-packages\\pyspark\\python\\lib\\pyspark.zip\\pyspark\\serializers.py\", line 722, in read_int\n    length = stream.read(4)\n  File \"C:\\Users\\HP\\Anaconda3\\envs\\comp9313\\lib\\socket.py\", line 586, in readinto\n    return self._sock.recv_into(b)\nsocket.timeout: timed out\n\r\n\tat org.apache.spark.api.python.BasePythonRunner$ReaderIterator.handlePythonException(PythonRunner.scala:456)\r\n\tat org.apache.spark.api.python.PythonRunner$$anon$1.read(PythonRunner.scala:592)\r\n\tat org.apache.spark.api.python.PythonRunner$$anon$1.read(PythonRunner.scala:575)\r\n\tat org.apache.spark.api.python.BasePythonRunner$ReaderIterator.hasNext(PythonRunner.scala:410)\r\n\tat org.apache.spark.InterruptibleIterator.hasNext(InterruptibleIterator.scala:37)\r\n\tat scala.collection.Iterator$class.foreach(Iterator.scala:891)\r\n\tat org.apache.spark.InterruptibleIterator.foreach(InterruptibleIterator.scala:28)\r\n\tat scala.collection.generic.Growable$class.$plus$plus$eq(Growable.scala:59)\r\n\tat scala.collection.mutable.ArrayBuffer.$plus$plus$eq(ArrayBuffer.scala:104)\r\n\tat scala.collection.mutable.ArrayBuffer.$plus$plus$eq(ArrayBuffer.scala:48)\r\n\tat scala.collection.TraversableOnce$class.to(TraversableOnce.scala:310)\r\n\tat org.apache.spark.InterruptibleIterator.to(InterruptibleIterator.scala:28)\r\n\tat scala.collection.TraversableOnce$class.toBuffer(TraversableOnce.scala:302)\r\n\tat org.apache.spark.InterruptibleIterator.toBuffer(InterruptibleIterator.scala:28)\r\n\tat scala.collection.TraversableOnce$class.toArray(TraversableOnce.scala:289)\r\n\tat org.apache.spark.InterruptibleIterator.toArray(InterruptibleIterator.scala:28)\r\n\tat org.apache.spark.rdd.RDD$$anonfun$collect$1$$anonfun$15.apply(RDD.scala:990)\r\n\tat org.apache.spark.rdd.RDD$$anonfun$collect$1$$anonfun$15.apply(RDD.scala:990)\r\n\tat org.apache.spark.SparkContext$$anonfun$runJob$5.apply(SparkContext.scala:2101)\r\n\tat org.apache.spark.SparkContext$$anonfun$runJob$5.apply(SparkContext.scala:2101)\r\n\tat org.apache.spark.scheduler.ResultTask.runTask(ResultTask.scala:90)\r\n\tat org.apache.spark.scheduler.Task.run(Task.scala:123)\r\n\tat org.apache.spark.executor.Executor$TaskRunner$$anonfun$10.apply(Executor.scala:408)\r\n\tat org.apache.spark.util.Utils$.tryWithSafeFinally(Utils.scala:1360)\r\n\tat org.apache.spark.executor.Executor$TaskRunner.run(Executor.scala:414)\r\n\tat java.util.concurrent.ThreadPoolExecutor.runWorker(Unknown Source)\r\n\tat java.util.concurrent.ThreadPoolExecutor$Worker.run(Unknown Source)\r\n\tat java.lang.Thread.run(Unknown Source)\r\n\nDriver stacktrace:\r\n\tat org.apache.spark.scheduler.DAGScheduler.org$apache$spark$scheduler$DAGScheduler$$failJobAndIndependentStages(DAGScheduler.scala:1891)\r\n\tat org.apache.spark.scheduler.DAGScheduler$$anonfun$abortStage$1.apply(DAGScheduler.scala:1879)\r\n\tat org.apache.spark.scheduler.DAGScheduler$$anonfun$abortStage$1.apply(DAGScheduler.scala:1878)\r\n\tat scala.collection.mutable.ResizableArray$class.foreach(ResizableArray.scala:59)\r\n\tat scala.collection.mutable.ArrayBuffer.foreach(ArrayBuffer.scala:48)\r\n\tat org.apache.spark.scheduler.DAGScheduler.abortStage(DAGScheduler.scala:1878)\r\n\tat org.apache.spark.scheduler.DAGScheduler$$anonfun$handleTaskSetFailed$1.apply(DAGScheduler.scala:927)\r\n\tat org.apache.spark.scheduler.DAGScheduler$$anonfun$handleTaskSetFailed$1.apply(DAGScheduler.scala:927)\r\n\tat scala.Option.foreach(Option.scala:257)\r\n\tat org.apache.spark.scheduler.DAGScheduler.handleTaskSetFailed(DAGScheduler.scala:927)\r\n\tat org.apache.spark.scheduler.DAGSchedulerEventProcessLoop.doOnReceive(DAGScheduler.scala:2112)\r\n\tat org.apache.spark.scheduler.DAGSchedulerEventProcessLoop.onReceive(DAGScheduler.scala:2061)\r\n\tat org.apache.spark.scheduler.DAGSchedulerEventProcessLoop.onReceive(DAGScheduler.scala:2050)\r\n\tat org.apache.spark.util.EventLoop$$anon$1.run(EventLoop.scala:49)\r\n\tat org.apache.spark.scheduler.DAGScheduler.runJob(DAGScheduler.scala:738)\r\n\tat org.apache.spark.SparkContext.runJob(SparkContext.scala:2061)\r\n\tat org.apache.spark.SparkContext.runJob(SparkContext.scala:2082)\r\n\tat org.apache.spark.SparkContext.runJob(SparkContext.scala:2101)\r\n\tat org.apache.spark.SparkContext.runJob(SparkContext.scala:2126)\r\n\tat org.apache.spark.rdd.RDD$$anonfun$collect$1.apply(RDD.scala:990)\r\n\tat org.apache.spark.rdd.RDDOperationScope$.withScope(RDDOperationScope.scala:151)\r\n\tat org.apache.spark.rdd.RDDOperationScope$.withScope(RDDOperationScope.scala:112)\r\n\tat org.apache.spark.rdd.RDD.withScope(RDD.scala:385)\r\n\tat org.apache.spark.rdd.RDD.collect(RDD.scala:989)\r\n\tat org.apache.spark.api.python.PythonRDD$.collectAndServe(PythonRDD.scala:166)\r\n\tat org.apache.spark.api.python.PythonRDD.collectAndServe(PythonRDD.scala)\r\n\tat sun.reflect.NativeMethodAccessorImpl.invoke0(Native Method)\r\n\tat sun.reflect.NativeMethodAccessorImpl.invoke(Unknown Source)\r\n\tat sun.reflect.DelegatingMethodAccessorImpl.invoke(Unknown Source)\r\n\tat java.lang.reflect.Method.invoke(Unknown Source)\r\n\tat py4j.reflection.MethodInvoker.invoke(MethodInvoker.java:244)\r\n\tat py4j.reflection.ReflectionEngine.invoke(ReflectionEngine.java:357)\r\n\tat py4j.Gateway.invoke(Gateway.java:282)\r\n\tat py4j.commands.AbstractCommand.invokeMethod(AbstractCommand.java:132)\r\n\tat py4j.commands.CallCommand.execute(CallCommand.java:79)\r\n\tat py4j.GatewayConnection.run(GatewayConnection.java:238)\r\n\tat java.lang.Thread.run(Unknown Source)\r\nCaused by: org.apache.spark.api.python.PythonException: Traceback (most recent call last):\n  File \"C:\\Users\\HP\\Anaconda3\\envs\\comp9313\\Lib\\site-packages\\pyspark\\python\\lib\\pyspark.zip\\pyspark\\worker.py\", line 362, in main\n  File \"C:\\Users\\HP\\Anaconda3\\envs\\comp9313\\Lib\\site-packages\\pyspark\\python\\lib\\pyspark.zip\\pyspark\\serializers.py\", line 722, in read_int\n    length = stream.read(4)\n  File \"C:\\Users\\HP\\Anaconda3\\envs\\comp9313\\lib\\socket.py\", line 586, in readinto\n    return self._sock.recv_into(b)\nsocket.timeout: timed out\n\r\n\tat org.apache.spark.api.python.BasePythonRunner$ReaderIterator.handlePythonException(PythonRunner.scala:456)\r\n\tat org.apache.spark.api.python.PythonRunner$$anon$1.read(PythonRunner.scala:592)\r\n\tat org.apache.spark.api.python.PythonRunner$$anon$1.read(PythonRunner.scala:575)\r\n\tat org.apache.spark.api.python.BasePythonRunner$ReaderIterator.hasNext(PythonRunner.scala:410)\r\n\tat org.apache.spark.InterruptibleIterator.hasNext(InterruptibleIterator.scala:37)\r\n\tat scala.collection.Iterator$class.foreach(Iterator.scala:891)\r\n\tat org.apache.spark.InterruptibleIterator.foreach(InterruptibleIterator.scala:28)\r\n\tat scala.collection.generic.Growable$class.$plus$plus$eq(Growable.scala:59)\r\n\tat scala.collection.mutable.ArrayBuffer.$plus$plus$eq(ArrayBuffer.scala:104)\r\n\tat scala.collection.mutable.ArrayBuffer.$plus$plus$eq(ArrayBuffer.scala:48)\r\n\tat scala.collection.TraversableOnce$class.to(TraversableOnce.scala:310)\r\n\tat org.apache.spark.InterruptibleIterator.to(InterruptibleIterator.scala:28)\r\n\tat scala.collection.TraversableOnce$class.toBuffer(TraversableOnce.scala:302)\r\n\tat org.apache.spark.InterruptibleIterator.toBuffer(InterruptibleIterator.scala:28)\r\n\tat scala.collection.TraversableOnce$class.toArray(TraversableOnce.scala:289)\r\n\tat org.apache.spark.InterruptibleIterator.toArray(InterruptibleIterator.scala:28)\r\n\tat org.apache.spark.rdd.RDD$$anonfun$collect$1$$anonfun$15.apply(RDD.scala:990)\r\n\tat org.apache.spark.rdd.RDD$$anonfun$collect$1$$anonfun$15.apply(RDD.scala:990)\r\n\tat org.apache.spark.SparkContext$$anonfun$runJob$5.apply(SparkContext.scala:2101)\r\n\tat org.apache.spark.SparkContext$$anonfun$runJob$5.apply(SparkContext.scala:2101)\r\n\tat org.apache.spark.scheduler.ResultTask.runTask(ResultTask.scala:90)\r\n\tat org.apache.spark.scheduler.Task.run(Task.scala:123)\r\n\tat org.apache.spark.executor.Executor$TaskRunner$$anonfun$10.apply(Executor.scala:408)\r\n\tat org.apache.spark.util.Utils$.tryWithSafeFinally(Utils.scala:1360)\r\n\tat org.apache.spark.executor.Executor$TaskRunner.run(Executor.scala:414)\r\n\tat java.util.concurrent.ThreadPoolExecutor.runWorker(Unknown Source)\r\n\tat java.util.concurrent.ThreadPoolExecutor$Worker.run(Unknown Source)\r\n\t... 1 more\r\n"
          ]
        }
      ]
    },
    {
      "cell_type": "code",
      "metadata": {
        "id": "HgHH2yhY8meN",
        "colab_type": "code",
        "colab": {}
      },
      "source": [
        ""
      ],
      "execution_count": null,
      "outputs": []
    }
  ]
}